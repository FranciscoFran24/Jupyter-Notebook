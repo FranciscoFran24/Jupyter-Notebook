{
 "cells": [
  {
   "cell_type": "markdown",
   "id": "0678fe51-7d95-4810-af55-52cb814707e9",
   "metadata": {},
   "source": [
    "# Data Science Tools and Ecosystem"
   ]
  },
  {
   "cell_type": "markdown",
   "id": "c786ac8a-58fd-4935-a566-dda3399b99d9",
   "metadata": {},
   "source": [
    "## In this notebook, Data Science Tools and Ecosystem are summarized"
   ]
  },
  {
   "cell_type": "markdown",
   "id": "c818639e-92d6-4f5f-a8ad-1f4883e6b726",
   "metadata": {},
   "source": [
    "Some of the popular languages that Data Science use are:\n",
    "1. Python\n",
    "2. R\n",
    "3. SQL"
   ]
  },
  {
   "cell_type": "markdown",
   "id": "dbeb1528-a8c0-453a-85f9-75e3d5442573",
   "metadata": {},
   "source": [
    "Some of the commonly used libraries used by Data Scientists include:\n",
    "1. Pandas\n",
    "2. Matplotlib\n",
    "3. Pytorch\n"
   ]
  },
  {
   "cell_type": "markdown",
   "id": "7d747343-4386-4a91-86f3-8e6739377eb2",
   "metadata": {},
   "source": [
    "|Data Science Tools|\n",
    "|------------------|\n",
    "|Jupyert Notebook  |\n",
    "|Python            |\n",
    "|Rstudio           |"
   ]
  },
  {
   "cell_type": "markdown",
   "id": "e02eac56-55d4-4114-a24b-4a493e8534df",
   "metadata": {},
   "source": [
    "### Below are a few examples of evaluating arithmetic expressions in Python"
   ]
  },
  {
   "cell_type": "code",
   "execution_count": 12,
   "id": "0c46a9a2-9414-4406-a13d-f032a14be878",
   "metadata": {},
   "outputs": [
    {
     "data": {
      "text/plain": [
       "17"
      ]
     },
     "execution_count": 12,
     "metadata": {},
     "output_type": "execute_result"
    }
   ],
   "source": [
    "(3*4)+5"
   ]
  },
  {
   "cell_type": "markdown",
   "id": "b372905a-f2f3-4b1c-87a3-0951e7e85e37",
   "metadata": {},
   "source": [
    "This a simple arithmetic expression to mutiply then add integers"
   ]
  },
  {
   "cell_type": "code",
   "execution_count": 17,
   "id": "d8f13864-09af-4d6a-8892-8ac30849595f",
   "metadata": {},
   "outputs": [
    {
     "data": {
      "text/plain": [
       "3.3333333333333335"
      ]
     },
     "execution_count": 17,
     "metadata": {},
     "output_type": "execute_result"
    }
   ],
   "source": [
    "200/60"
   ]
  },
  {
   "cell_type": "markdown",
   "id": "8c0fd186-6f6d-414a-b246-fe1b0862614f",
   "metadata": {},
   "source": [
    "This will convert 200 minutes to hours by diving by 60"
   ]
  },
  {
   "cell_type": "markdown",
   "id": "0abe231e-0138-4abe-a4ab-fa6d74ac0161",
   "metadata": {},
   "source": [
    "Objectives:\n",
    "- List popular languages for Data Science\n",
    "- List popular libraries of Data Science\n",
    "- Make some arithmetic operations\n",
    "- List some of the most used Data Science Development Environment"
   ]
  },
  {
   "cell_type": "markdown",
   "id": "217008f1-691c-4503-bd79-8e5be45792c3",
   "metadata": {},
   "source": [
    "## Author Francisco Benjamín Galán Pérez"
   ]
  },
  {
   "cell_type": "code",
   "execution_count": null,
   "id": "c0916dec-3e23-4694-ad78-9c6b5ba757ad",
   "metadata": {},
   "outputs": [],
   "source": []
  }
 ],
 "metadata": {
  "kernelspec": {
   "display_name": "Python 3 (ipykernel)",
   "language": "python",
   "name": "python3"
  },
  "language_info": {
   "codemirror_mode": {
    "name": "ipython",
    "version": 3
   },
   "file_extension": ".py",
   "mimetype": "text/x-python",
   "name": "python",
   "nbconvert_exporter": "python",
   "pygments_lexer": "ipython3",
   "version": "3.12.4"
  }
 },
 "nbformat": 4,
 "nbformat_minor": 5
}
